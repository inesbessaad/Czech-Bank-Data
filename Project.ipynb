{
 "cells": [
  {
   "cell_type": "code",
   "execution_count": 1,
   "id": "4f101107",
   "metadata": {},
   "outputs": [],
   "source": [
    "import numpy as np\n",
    "import pandas as pd\n",
    "import matplotlib.pyplot as plt\n",
    "from numpy import isnan\n",
    "from pandas import read_csv\n",
    "from datetime import datetime"
   ]
  },
  {
   "cell_type": "code",
   "execution_count": 49,
   "id": "758157eb",
   "metadata": {},
   "outputs": [
    {
     "name": "stderr",
     "output_type": "stream",
     "text": [
      "C:\\Users\\HD\\AppData\\Local\\Temp\\ipykernel_3616\\228495804.py:8: DtypeWarning: Columns (8) have mixed types. Specify dtype option on import or set low_memory=False.\n",
      "  trans = pd.read_csv('trans.csv')\n"
     ]
    }
   ],
   "source": [
    "client = pd.read_csv('client.csv')\n",
    "account = pd.read_csv('account.csv')\n",
    "card = pd.read_csv('card.csv')\n",
    "disp = pd.read_csv('disp.csv')\n",
    "district = pd.read_csv('district.csv')\n",
    "loan = pd.read_csv('loan.csv')\n",
    "order = pd.read_csv('order.csv')\n",
    "trans = pd.read_csv('trans.csv')"
   ]
  },
  {
   "cell_type": "markdown",
   "id": "d39e03bc",
   "metadata": {},
   "source": [
    "## Data Understanding : Client Dataset"
   ]
  },
  {
   "cell_type": "code",
   "execution_count": 3,
   "id": "85fd4ff5",
   "metadata": {},
   "outputs": [
    {
     "name": "stdout",
     "output_type": "stream",
     "text": [
      "Client columns: Index(['client_id', 'birth_number', 'district_id'], dtype='object')\n"
     ]
    }
   ],
   "source": [
    "print(\"Client columns:\", client.columns)"
   ]
  },
  {
   "cell_type": "markdown",
   "id": "275d0f66",
   "metadata": {},
   "source": [
    "client_id : client identifier \n",
    "\n",
    "birth_number : birthday and sex\n",
    "\n",
    "district_id : address of the client"
   ]
  },
  {
   "cell_type": "code",
   "execution_count": 4,
   "id": "8224d1ba",
   "metadata": {},
   "outputs": [
    {
     "data": {
      "text/html": [
       "<div>\n",
       "<style scoped>\n",
       "    .dataframe tbody tr th:only-of-type {\n",
       "        vertical-align: middle;\n",
       "    }\n",
       "\n",
       "    .dataframe tbody tr th {\n",
       "        vertical-align: top;\n",
       "    }\n",
       "\n",
       "    .dataframe thead th {\n",
       "        text-align: right;\n",
       "    }\n",
       "</style>\n",
       "<table border=\"1\" class=\"dataframe\">\n",
       "  <thead>\n",
       "    <tr style=\"text-align: right;\">\n",
       "      <th></th>\n",
       "      <th>client_id</th>\n",
       "      <th>birth_number</th>\n",
       "      <th>district_id</th>\n",
       "    </tr>\n",
       "  </thead>\n",
       "  <tbody>\n",
       "    <tr>\n",
       "      <th>0</th>\n",
       "      <td>1</td>\n",
       "      <td>706213</td>\n",
       "      <td>18</td>\n",
       "    </tr>\n",
       "    <tr>\n",
       "      <th>1</th>\n",
       "      <td>2</td>\n",
       "      <td>450204</td>\n",
       "      <td>1</td>\n",
       "    </tr>\n",
       "    <tr>\n",
       "      <th>2</th>\n",
       "      <td>3</td>\n",
       "      <td>406009</td>\n",
       "      <td>1</td>\n",
       "    </tr>\n",
       "    <tr>\n",
       "      <th>3</th>\n",
       "      <td>4</td>\n",
       "      <td>561201</td>\n",
       "      <td>5</td>\n",
       "    </tr>\n",
       "    <tr>\n",
       "      <th>4</th>\n",
       "      <td>5</td>\n",
       "      <td>605703</td>\n",
       "      <td>5</td>\n",
       "    </tr>\n",
       "  </tbody>\n",
       "</table>\n",
       "</div>"
      ],
      "text/plain": [
       "   client_id  birth_number  district_id\n",
       "0          1        706213           18\n",
       "1          2        450204            1\n",
       "2          3        406009            1\n",
       "3          4        561201            5\n",
       "4          5        605703            5"
      ]
     },
     "execution_count": 4,
     "metadata": {},
     "output_type": "execute_result"
    }
   ],
   "source": [
    "client.head()"
   ]
  },
  {
   "cell_type": "code",
   "execution_count": 5,
   "id": "efe36842",
   "metadata": {},
   "outputs": [
    {
     "data": {
      "text/plain": [
       "(5369, 3)"
      ]
     },
     "execution_count": 5,
     "metadata": {},
     "output_type": "execute_result"
    }
   ],
   "source": [
    "client.shape"
   ]
  },
  {
   "cell_type": "code",
   "execution_count": 6,
   "id": "a529ea7f",
   "metadata": {},
   "outputs": [
    {
     "name": "stdout",
     "output_type": "stream",
     "text": [
      "Tous les client_id sont uniques.\n"
     ]
    }
   ],
   "source": [
    "# Vérifier l'unicité des client_id\n",
    "duplicate_client_ids = client[client.duplicated(subset='client_id', keep=False)]\n",
    "\n",
    "if duplicate_client_ids.empty:\n",
    "    print(\"Tous les client_id sont uniques.\")\n",
    "else:\n",
    "    print(\"Il y a des duplications de client_id:\")\n",
    "    print(duplicate_client_ids)"
   ]
  },
  {
   "cell_type": "code",
   "execution_count": 7,
   "id": "c2c2930b",
   "metadata": {},
   "outputs": [
    {
     "data": {
      "text/plain": [
       "False"
      ]
     },
     "execution_count": 7,
     "metadata": {},
     "output_type": "execute_result"
    }
   ],
   "source": [
    "client.isnull().values.any()"
   ]
  },
  {
   "cell_type": "markdown",
   "id": "c73f14df",
   "metadata": {},
   "source": [
    "The column birth_number representes birthday and sex where : \n",
    "The value is in the form: YYMMDD (for men) & YYMM+50DD (for women)\n",
    "\n",
    "So we will extract from birth_number the columns : birth_date, age and sex."
   ]
  },
  {
   "cell_type": "code",
   "execution_count": 51,
   "id": "e8cd1f79",
   "metadata": {},
   "outputs": [
    {
     "name": "stdout",
     "output_type": "stream",
     "text": [
      "      client_id  district_id birth_date  age     sex\n",
      "0             1           18 1970-12-13   28  Female\n",
      "1             2            1 1945-02-04   53    Male\n",
      "2             3            1 1940-10-09   58  Female\n",
      "3             4            5 1956-12-01   42    Male\n",
      "4             5            5 1960-07-03   38  Female\n",
      "...         ...          ...        ...  ...     ...\n",
      "5364      13955            1 1945-10-30   53  Female\n",
      "5365      13956            1 1943-04-06   55    Male\n",
      "5366      13968           61 1968-04-13   30    Male\n",
      "5367      13971           67 1962-10-19   36  Female\n",
      "5368      13998           74 1953-08-12   45  Female\n",
      "\n",
      "[5369 rows x 5 columns]\n"
     ]
    }
   ],
   "source": [
    "from datetime import datetime\n",
    "\n",
    "def extract_info(birth_number):\n",
    "    birth_number_str = str(birth_number).zfill(6)\n",
    "    year = int(birth_number_str[:2])\n",
    "    month = int(birth_number_str[2:4])\n",
    "    day = int(birth_number_str[4:6])\n",
    "\n",
    "    if month > 50:\n",
    "        sex = 'Female'\n",
    "        month -= 50\n",
    "    else:\n",
    "        sex = 'Male'\n",
    "\n",
    "    if year <= int(datetime.now().strftime('%y')):\n",
    "        year += 2000\n",
    "    else:\n",
    "        year += 1900\n",
    "\n",
    "    birth_date = datetime(year, month, day)\n",
    "    reference_date = datetime(1999, 1, 1)\n",
    "    age = (reference_date  - birth_date).days // 365\n",
    "\n",
    "    return birth_date, age, sex\n",
    "\n",
    "# Appliquer la fonction à la colonne birth_number\n",
    "client[['birth_date', 'age', 'sex']] = client['birth_number'].apply(lambda x: pd.Series(extract_info(x)))\n",
    "\n",
    "# Supprimer la colonne birth_number\n",
    "client.drop(columns=['birth_number'], inplace=True)\n",
    "\n",
    "# Afficher le dataset avec les nouvelles colonnes\n",
    "print(client)"
   ]
  },
  {
   "cell_type": "markdown",
   "id": "7bf55d3a",
   "metadata": {},
   "source": [
    "## Data Understanding : Account Dataset"
   ]
  },
  {
   "cell_type": "code",
   "execution_count": 9,
   "id": "818e373e",
   "metadata": {},
   "outputs": [
    {
     "name": "stdout",
     "output_type": "stream",
     "text": [
      "Account columns: Index(['account_id', 'district_id', 'frequency', 'date'], dtype='object')\n"
     ]
    }
   ],
   "source": [
    "print(\"Account columns:\", account.columns)"
   ]
  },
  {
   "cell_type": "markdown",
   "id": "355667ce",
   "metadata": {},
   "source": [
    "account_id : Identification of the account\n",
    "\n",
    "district_id : Location of the branch\n",
    "\n",
    "frequency : Frequency of statement issuance\t\n",
    "\n",
    "date : Date of the account's creation"
   ]
  },
  {
   "cell_type": "code",
   "execution_count": 10,
   "id": "66bec583",
   "metadata": {},
   "outputs": [
    {
     "data": {
      "text/plain": [
       "(4500, 4)"
      ]
     },
     "execution_count": 10,
     "metadata": {},
     "output_type": "execute_result"
    }
   ],
   "source": [
    "account.shape"
   ]
  },
  {
   "cell_type": "code",
   "execution_count": 11,
   "id": "f90d3674",
   "metadata": {},
   "outputs": [
    {
     "name": "stdout",
     "output_type": "stream",
     "text": [
      "Tous les account_id sont uniques.\n"
     ]
    }
   ],
   "source": [
    "# Vérifier l'unicité des account_id\n",
    "duplicate_account_ids = account[account.duplicated(subset='account_id', keep=False)]\n",
    "\n",
    "if duplicate_account_ids.empty:\n",
    "    print(\"Tous les account_id sont uniques.\")\n",
    "else:\n",
    "    print(\"Il y a des duplications de account_id:\")\n",
    "    print(duplicate_account_ids)"
   ]
  },
  {
   "cell_type": "code",
   "execution_count": 12,
   "id": "ee50cb0a",
   "metadata": {},
   "outputs": [
    {
     "data": {
      "text/plain": [
       "False"
      ]
     },
     "execution_count": 12,
     "metadata": {},
     "output_type": "execute_result"
    }
   ],
   "source": [
    "account.isnull().values.any()"
   ]
  },
  {
   "cell_type": "code",
   "execution_count": 13,
   "id": "90acdc3f",
   "metadata": {},
   "outputs": [
    {
     "data": {
      "text/html": [
       "<div>\n",
       "<style scoped>\n",
       "    .dataframe tbody tr th:only-of-type {\n",
       "        vertical-align: middle;\n",
       "    }\n",
       "\n",
       "    .dataframe tbody tr th {\n",
       "        vertical-align: top;\n",
       "    }\n",
       "\n",
       "    .dataframe thead th {\n",
       "        text-align: right;\n",
       "    }\n",
       "</style>\n",
       "<table border=\"1\" class=\"dataframe\">\n",
       "  <thead>\n",
       "    <tr style=\"text-align: right;\">\n",
       "      <th></th>\n",
       "      <th>account_id</th>\n",
       "      <th>district_id</th>\n",
       "      <th>frequency</th>\n",
       "      <th>date</th>\n",
       "    </tr>\n",
       "  </thead>\n",
       "  <tbody>\n",
       "    <tr>\n",
       "      <th>0</th>\n",
       "      <td>576</td>\n",
       "      <td>55</td>\n",
       "      <td>POPLATEK MESICNE</td>\n",
       "      <td>930101</td>\n",
       "    </tr>\n",
       "    <tr>\n",
       "      <th>1</th>\n",
       "      <td>3818</td>\n",
       "      <td>74</td>\n",
       "      <td>POPLATEK MESICNE</td>\n",
       "      <td>930101</td>\n",
       "    </tr>\n",
       "    <tr>\n",
       "      <th>2</th>\n",
       "      <td>704</td>\n",
       "      <td>55</td>\n",
       "      <td>POPLATEK MESICNE</td>\n",
       "      <td>930101</td>\n",
       "    </tr>\n",
       "    <tr>\n",
       "      <th>3</th>\n",
       "      <td>2378</td>\n",
       "      <td>16</td>\n",
       "      <td>POPLATEK MESICNE</td>\n",
       "      <td>930101</td>\n",
       "    </tr>\n",
       "    <tr>\n",
       "      <th>4</th>\n",
       "      <td>2632</td>\n",
       "      <td>24</td>\n",
       "      <td>POPLATEK MESICNE</td>\n",
       "      <td>930102</td>\n",
       "    </tr>\n",
       "  </tbody>\n",
       "</table>\n",
       "</div>"
      ],
      "text/plain": [
       "   account_id  district_id         frequency    date\n",
       "0         576           55  POPLATEK MESICNE  930101\n",
       "1        3818           74  POPLATEK MESICNE  930101\n",
       "2         704           55  POPLATEK MESICNE  930101\n",
       "3        2378           16  POPLATEK MESICNE  930101\n",
       "4        2632           24  POPLATEK MESICNE  930102"
      ]
     },
     "execution_count": 13,
     "metadata": {},
     "output_type": "execute_result"
    }
   ],
   "source": [
    "account.head()"
   ]
  },
  {
   "cell_type": "markdown",
   "id": "77956b75",
   "metadata": {},
   "source": [
    "The date is written in the form YYMMDD, let's change it to datetime form."
   ]
  },
  {
   "cell_type": "code",
   "execution_count": 14,
   "id": "9884af0f",
   "metadata": {},
   "outputs": [
    {
     "name": "stdout",
     "output_type": "stream",
     "text": [
      "      account_id  district_id         frequency       date\n",
      "0            576           55  POPLATEK MESICNE 1993-01-01\n",
      "1           3818           74  POPLATEK MESICNE 1993-01-01\n",
      "2            704           55  POPLATEK MESICNE 1993-01-01\n",
      "3           2378           16  POPLATEK MESICNE 1993-01-01\n",
      "4           2632           24  POPLATEK MESICNE 1993-01-02\n",
      "...          ...          ...               ...        ...\n",
      "4495         124           55  POPLATEK MESICNE 1997-12-28\n",
      "4496        3958           59  POPLATEK MESICNE 1997-12-28\n",
      "4497         777           30  POPLATEK MESICNE 1997-12-28\n",
      "4498        1573           63  POPLATEK MESICNE 1997-12-29\n",
      "4499        3276            1  POPLATEK MESICNE 1997-12-29\n",
      "\n",
      "[4500 rows x 4 columns]\n"
     ]
    }
   ],
   "source": [
    "from datetime import datetime\n",
    "\n",
    "def convert_date(date_str):\n",
    "    date_str = str(date_str).zfill(6)\n",
    "    year = int(date_str[:2])\n",
    "    month = int(date_str[2:4])\n",
    "    day = int(date_str[4:6])\n",
    "    \n",
    "    # Assume all years are in the 20th or 21st century\n",
    "    current_year = datetime.now().year\n",
    "    if year <= int(str(current_year)[-2:]):  # If year is less than or equal to current year's last two digits\n",
    "        year += 2000\n",
    "    else:\n",
    "        year += 1900\n",
    "    \n",
    "    return datetime(year, month, day)\n",
    "\n",
    "# Convertir la colonne date\n",
    "account['date'] = account['date'].apply(convert_date)\n",
    "\n",
    "# Afficher le dataset avec les dates converties\n",
    "print(account)"
   ]
  },
  {
   "cell_type": "markdown",
   "id": "5acd7d46",
   "metadata": {},
   "source": [
    "The column frequency is written in Czech, let's translate it : \n",
    "\n",
    "\"POPLATEK MESICNE\" - Monthly Fee\n",
    "\n",
    "\"POPLATEK TYDNE\" - Weekly Fee\n",
    "\n",
    "\"POPLATEK PO OBRATU\" - Fee After Transaction"
   ]
  },
  {
   "cell_type": "code",
   "execution_count": 15,
   "id": "5a84d24d",
   "metadata": {},
   "outputs": [
    {
     "name": "stdout",
     "output_type": "stream",
     "text": [
      "      account_id  district_id    frequency       date\n",
      "0            576           55  Monthly Fee 1993-01-01\n",
      "1           3818           74  Monthly Fee 1993-01-01\n",
      "2            704           55  Monthly Fee 1993-01-01\n",
      "3           2378           16  Monthly Fee 1993-01-01\n",
      "4           2632           24  Monthly Fee 1993-01-02\n",
      "...          ...          ...          ...        ...\n",
      "4495         124           55  Monthly Fee 1997-12-28\n",
      "4496        3958           59  Monthly Fee 1997-12-28\n",
      "4497         777           30  Monthly Fee 1997-12-28\n",
      "4498        1573           63  Monthly Fee 1997-12-29\n",
      "4499        3276            1  Monthly Fee 1997-12-29\n",
      "\n",
      "[4500 rows x 4 columns]\n"
     ]
    }
   ],
   "source": [
    "# Dictionnaire de traduction pour la colonne frequency\n",
    "translation_dict = {\n",
    "    \"POPLATEK MESICNE\": \"Monthly Fee\",\n",
    "    \"POPLATEK TYDNE\": \"Weekly Fee\",\n",
    "    \"POPLATEK PO OBRATU\": \"Fee After Transaction\"\n",
    "}\n",
    "\n",
    "# Traduire la colonne frequency\n",
    "account['frequency'] = account['frequency'].map(translation_dict)\n",
    "\n",
    "# Afficher le dataset avec la colonne frequency traduite\n",
    "print(account)"
   ]
  },
  {
   "cell_type": "code",
   "execution_count": 16,
   "id": "d6cd33d9",
   "metadata": {},
   "outputs": [
    {
     "name": "stdout",
     "output_type": "stream",
     "text": [
      "frequency\n",
      "Monthly Fee              4167\n",
      "Weekly Fee                240\n",
      "Fee After Transaction      93\n",
      "Name: count, dtype: int64\n"
     ]
    }
   ],
   "source": [
    "# Compter le nombre d'occurrences de chaque type de frais\n",
    "frequency_counts = account['frequency'].value_counts()\n",
    "\n",
    "# Afficher les résultats\n",
    "print(frequency_counts)"
   ]
  },
  {
   "cell_type": "markdown",
   "id": "a9e73653",
   "metadata": {},
   "source": [
    "## Data Understanding : Card Dataset"
   ]
  },
  {
   "cell_type": "code",
   "execution_count": 17,
   "id": "bfdd937c",
   "metadata": {},
   "outputs": [
    {
     "name": "stdout",
     "output_type": "stream",
     "text": [
      "Card columns: Index(['card_id', 'disp_id', 'type', 'issued'], dtype='object')\n"
     ]
    }
   ],
   "source": [
    "print(\"Card columns:\", card.columns)"
   ]
  },
  {
   "cell_type": "markdown",
   "id": "f692ba8d",
   "metadata": {},
   "source": [
    "card_id : Card Identifier\t\n",
    "\n",
    "disp_id : Disposition to an account\t\n",
    "\n",
    "type : Type of card\t('Junior', 'Classic' or 'Gold')\n",
    "\n",
    "issued : Date card was issued"
   ]
  },
  {
   "cell_type": "code",
   "execution_count": 18,
   "id": "211601e3",
   "metadata": {},
   "outputs": [
    {
     "data": {
      "text/plain": [
       "(892, 4)"
      ]
     },
     "execution_count": 18,
     "metadata": {},
     "output_type": "execute_result"
    }
   ],
   "source": [
    "card.shape"
   ]
  },
  {
   "cell_type": "code",
   "execution_count": 19,
   "id": "62733f3f",
   "metadata": {},
   "outputs": [
    {
     "name": "stdout",
     "output_type": "stream",
     "text": [
      "Tous les card_id sont uniques.\n"
     ]
    }
   ],
   "source": [
    "# Vérifier l'unicité des card_id\n",
    "duplicate_card_ids = card[card.duplicated(subset='card_id', keep=False)]\n",
    "\n",
    "if duplicate_card_ids.empty:\n",
    "    print(\"Tous les card_id sont uniques.\")\n",
    "else:\n",
    "    print(\"Il y a des duplications de card_id:\")\n",
    "    print(duplicate_card_ids)"
   ]
  },
  {
   "cell_type": "code",
   "execution_count": 20,
   "id": "08922cc9",
   "metadata": {},
   "outputs": [
    {
     "data": {
      "text/html": [
       "<div>\n",
       "<style scoped>\n",
       "    .dataframe tbody tr th:only-of-type {\n",
       "        vertical-align: middle;\n",
       "    }\n",
       "\n",
       "    .dataframe tbody tr th {\n",
       "        vertical-align: top;\n",
       "    }\n",
       "\n",
       "    .dataframe thead th {\n",
       "        text-align: right;\n",
       "    }\n",
       "</style>\n",
       "<table border=\"1\" class=\"dataframe\">\n",
       "  <thead>\n",
       "    <tr style=\"text-align: right;\">\n",
       "      <th></th>\n",
       "      <th>card_id</th>\n",
       "      <th>disp_id</th>\n",
       "      <th>type</th>\n",
       "      <th>issued</th>\n",
       "    </tr>\n",
       "  </thead>\n",
       "  <tbody>\n",
       "    <tr>\n",
       "      <th>0</th>\n",
       "      <td>1005</td>\n",
       "      <td>9285</td>\n",
       "      <td>classic</td>\n",
       "      <td>931107 00:00:00</td>\n",
       "    </tr>\n",
       "    <tr>\n",
       "      <th>1</th>\n",
       "      <td>104</td>\n",
       "      <td>588</td>\n",
       "      <td>classic</td>\n",
       "      <td>940119 00:00:00</td>\n",
       "    </tr>\n",
       "    <tr>\n",
       "      <th>2</th>\n",
       "      <td>747</td>\n",
       "      <td>4915</td>\n",
       "      <td>classic</td>\n",
       "      <td>940205 00:00:00</td>\n",
       "    </tr>\n",
       "    <tr>\n",
       "      <th>3</th>\n",
       "      <td>70</td>\n",
       "      <td>439</td>\n",
       "      <td>classic</td>\n",
       "      <td>940208 00:00:00</td>\n",
       "    </tr>\n",
       "    <tr>\n",
       "      <th>4</th>\n",
       "      <td>577</td>\n",
       "      <td>3687</td>\n",
       "      <td>classic</td>\n",
       "      <td>940215 00:00:00</td>\n",
       "    </tr>\n",
       "  </tbody>\n",
       "</table>\n",
       "</div>"
      ],
      "text/plain": [
       "   card_id  disp_id     type           issued\n",
       "0     1005     9285  classic  931107 00:00:00\n",
       "1      104      588  classic  940119 00:00:00\n",
       "2      747     4915  classic  940205 00:00:00\n",
       "3       70      439  classic  940208 00:00:00\n",
       "4      577     3687  classic  940215 00:00:00"
      ]
     },
     "execution_count": 20,
     "metadata": {},
     "output_type": "execute_result"
    }
   ],
   "source": [
    "card.head()"
   ]
  },
  {
   "cell_type": "markdown",
   "id": "51df42e8",
   "metadata": {},
   "source": [
    "The column issued represents the date the card was issued and it's written in the form YYMMDD, let's change it to datetime."
   ]
  },
  {
   "cell_type": "code",
   "execution_count": 21,
   "id": "d5505571",
   "metadata": {},
   "outputs": [
    {
     "name": "stdout",
     "output_type": "stream",
     "text": [
      "     card_id  disp_id     type     issued\n",
      "0       1005     9285  classic 1993-11-07\n",
      "1        104      588  classic 1994-01-19\n",
      "2        747     4915  classic 1994-02-05\n",
      "3         70      439  classic 1994-02-08\n",
      "4        577     3687  classic 1994-02-15\n",
      "..       ...      ...      ...        ...\n",
      "887      125      694     gold 1998-12-26\n",
      "888      674     4360  classic 1998-12-28\n",
      "889      322     2063  classic 1998-12-28\n",
      "890      685     4467  classic 1998-12-29\n",
      "891      635     4083  classic 1998-12-29\n",
      "\n",
      "[892 rows x 4 columns]\n"
     ]
    }
   ],
   "source": [
    "def convert_date(date_str):\n",
    "    date_str = str(date_str).zfill(6)\n",
    "    year = int(date_str[:2])\n",
    "    month = int(date_str[2:4])\n",
    "    day = int(date_str[4:6])\n",
    "    \n",
    "    # Assume all years are in the 20th or 21st century\n",
    "    current_year = datetime.now().year\n",
    "    if year <= int(str(current_year)[-2:]):  # If year is less than or equal to current year's last two digits\n",
    "        year += 2000\n",
    "    else:\n",
    "        year += 1900\n",
    "    \n",
    "    return datetime(year, month, day)\n",
    "\n",
    "# Convertir la colonne issued\n",
    "card['issued'] = card['issued'].apply(convert_date)\n",
    "\n",
    "# Afficher le dataset avec les dates converties\n",
    "print(card)"
   ]
  },
  {
   "cell_type": "code",
   "execution_count": 22,
   "id": "e9e9a287",
   "metadata": {},
   "outputs": [
    {
     "name": "stdout",
     "output_type": "stream",
     "text": [
      "type\n",
      "classic    659\n",
      "junior     145\n",
      "gold        88\n",
      "Name: count, dtype: int64\n"
     ]
    }
   ],
   "source": [
    "# Compter le nombre d'occurrences de chaque type de carte\n",
    "types = card['type'].value_counts()\n",
    "\n",
    "# Afficher les résultats\n",
    "print(types)"
   ]
  },
  {
   "cell_type": "markdown",
   "id": "7ea3bfe6",
   "metadata": {},
   "source": [
    "## Data Understanding : Disposition Dataset"
   ]
  },
  {
   "cell_type": "code",
   "execution_count": 23,
   "id": "ba0af1e5",
   "metadata": {},
   "outputs": [
    {
     "name": "stdout",
     "output_type": "stream",
     "text": [
      "Disp columns: Index(['disp_id', 'client_id', 'account_id', 'type'], dtype='object')\n"
     ]
    }
   ],
   "source": [
    "print(\"Disp columns:\", disp.columns)"
   ]
  },
  {
   "cell_type": "markdown",
   "id": "bfb0e90f",
   "metadata": {},
   "source": [
    "disp_id\t: Record Identifier\n",
    "\n",
    "client_id :\tClient Identifier\t\n",
    "\n",
    "account_id : Account Identifier\t \n",
    "\n",
    "type : Type of Disposition : Owner or User\t(Only owner can issue permanent orders and ask for a loan)"
   ]
  },
  {
   "cell_type": "code",
   "execution_count": 24,
   "id": "1a104019",
   "metadata": {},
   "outputs": [
    {
     "name": "stdout",
     "output_type": "stream",
     "text": [
      "Tous les disp_id sont uniques.\n"
     ]
    }
   ],
   "source": [
    "# Vérifier l'unicité des disp_id\n",
    "duplicate_disp_ids = disp[disp.duplicated(subset='disp_id', keep=False)]\n",
    "\n",
    "if duplicate_disp_ids.empty:\n",
    "    print(\"Tous les disp_id sont uniques.\")\n",
    "else:\n",
    "    print(\"Il y a des duplications de disp_id:\")\n",
    "    print(duplicate_disp_ids)"
   ]
  },
  {
   "cell_type": "code",
   "execution_count": 25,
   "id": "f560b1bb",
   "metadata": {},
   "outputs": [
    {
     "name": "stdout",
     "output_type": "stream",
     "text": [
      "type\n",
      "OWNER        4500\n",
      "DISPONENT     869\n",
      "Name: count, dtype: int64\n"
     ]
    }
   ],
   "source": [
    "# Compter le nombre d'occurrences de chaque type de disposition\n",
    "disp_types = disp['type'].value_counts()\n",
    "\n",
    "# Afficher les résultats\n",
    "print(disp_types)"
   ]
  },
  {
   "cell_type": "markdown",
   "id": "04f41f22",
   "metadata": {},
   "source": [
    "## Data Understanding : District Dataset"
   ]
  },
  {
   "cell_type": "code",
   "execution_count": 26,
   "id": "9fbe41d4",
   "metadata": {},
   "outputs": [
    {
     "name": "stdout",
     "output_type": "stream",
     "text": [
      "District columns: Index(['a1', 'a2', 'a3', 'a4', 'a5', 'a6', 'a7', 'a8', 'a9', 'a10', 'a11',\n",
      "       'a12', 'a13', 'a14', 'a15', 'a16'],\n",
      "      dtype='object')\n"
     ]
    }
   ],
   "source": [
    "print(\"District columns:\", district.columns)"
   ]
  },
  {
   "cell_type": "markdown",
   "id": "7cdc3c12",
   "metadata": {},
   "source": [
    "A1  : District Identifier\t \n",
    "\n",
    "A2\t: District Name\t \n",
    "\n",
    "A3\t: Region\t \n",
    "\n",
    "A4\t: No. of Inhabitants\t \n",
    "\n",
    "A5\t: No. of Municipalities with inhabitants < 499\t \n",
    "\n",
    "A6\t: No. of Municipalities with inhabitants 500-1999\t \n",
    "\n",
    "A7\t: No. of Municipalities with inhabitants 2000-9999\t\n",
    "\n",
    "A8\t: No. of Municipalities with inhabitants > 10000\t \n",
    "\n",
    "A9\t: No. of Cities\t \n",
    "\n",
    "A10\t: Ratio of urban inhabitants\t \n",
    "\n",
    "A11\t: Average Salary\t \n",
    "\n",
    "A12\t: Unemployment rate in 1995\n",
    "\n",
    "A13\t: Unemployment rate in 1996\t\n",
    "\n",
    "A14\t: No. of Enterpreneurs per 1000 inhabitants\t\n",
    "\n",
    "A15\t: No. of Crimes commited in 1995\t \n",
    "\n",
    "A16\t: No. of Crimes commited in 1996"
   ]
  },
  {
   "cell_type": "code",
   "execution_count": 27,
   "id": "b2d6be7b",
   "metadata": {},
   "outputs": [
    {
     "name": "stdout",
     "output_type": "stream",
     "text": [
      "Tous les a1 sont uniques.\n"
     ]
    }
   ],
   "source": [
    "# Vérifier l'unicité des district_id\n",
    "duplicate_district_ids = district[district.duplicated(subset='a1', keep=False)]\n",
    "\n",
    "if duplicate_district_ids.empty:\n",
    "    print(\"Tous les a1 sont uniques.\")\n",
    "else:\n",
    "    print(\"Il y a des duplications de a1:\")\n",
    "    print(duplicate_district_ids)"
   ]
  },
  {
   "cell_type": "code",
   "execution_count": 28,
   "id": "c54f6c9c",
   "metadata": {},
   "outputs": [
    {
     "name": "stdout",
     "output_type": "stream",
     "text": [
      "    district_id    district_name           region  num_inhabitants  \\\n",
      "0             1      Hl.m. Praha           Prague          1204953   \n",
      "1             2          Benesov  central Bohemia            88884   \n",
      "2             3           Beroun  central Bohemia            75232   \n",
      "3             4           Kladno  central Bohemia           149893   \n",
      "4             5            Kolin  central Bohemia            95616   \n",
      "..          ...              ...              ...              ...   \n",
      "72           73            Opava    north Moravia           182027   \n",
      "73           74  Ostrava - mesto    north Moravia           323870   \n",
      "74           75           Prerov    north Moravia           138032   \n",
      "75           76          Sumperk    north Moravia           127369   \n",
      "76           77           Vsetin    north Moravia           148545   \n",
      "\n",
      "    num_municipalities_lt_499  num_municipalities_500_1999  \\\n",
      "0                           0                            0   \n",
      "1                          80                           26   \n",
      "2                          55                           26   \n",
      "3                          63                           29   \n",
      "4                          65                           30   \n",
      "..                        ...                          ...   \n",
      "72                         17                           49   \n",
      "73                          0                            0   \n",
      "74                         67                           30   \n",
      "75                         31                           32   \n",
      "76                          8                           35   \n",
      "\n",
      "    num_municipalities_2000_9999  num_municipalities_gt_10000  num_cities  \\\n",
      "0                              0                            1           1   \n",
      "1                              6                            2           5   \n",
      "2                              4                            1           5   \n",
      "3                              6                            2           6   \n",
      "4                              4                            1           6   \n",
      "..                           ...                          ...         ...   \n",
      "72                            12                            2           7   \n",
      "73                             0                            1           1   \n",
      "74                             4                            2           5   \n",
      "75                            13                            2           7   \n",
      "76                            12                            3           4   \n",
      "\n",
      "    urban_inhabitants_ratio  average_salary  unemployment_rate_1995  \\\n",
      "0                     100.0           12541                    0.29   \n",
      "1                      46.7            8507                    1.67   \n",
      "2                      41.7            8980                    1.95   \n",
      "3                      67.4            9753                    4.64   \n",
      "4                      51.4            9307                    3.85   \n",
      "..                      ...             ...                     ...   \n",
      "72                     56.4            8746                    3.33   \n",
      "73                    100.0           10673                    4.75   \n",
      "74                     64.6            8819                    5.38   \n",
      "75                     51.2            8369                    4.73   \n",
      "76                     53.5            8909                    4.01   \n",
      "\n",
      "    unemployment_rate_1996  entrepreneurs_per_1000  crimes_committed_1995  \\\n",
      "0                     0.43                     167                85677.0   \n",
      "1                     1.85                     132                 2159.0   \n",
      "2                     2.21                     111                 2824.0   \n",
      "3                     5.05                     109                 5244.0   \n",
      "4                     4.43                     118                 2616.0   \n",
      "..                     ...                     ...                    ...   \n",
      "72                    3.74                      90                 4355.0   \n",
      "73                    5.44                     100                18782.0   \n",
      "74                    5.66                      99                 4063.0   \n",
      "75                    5.88                     107                 3736.0   \n",
      "76                    5.56                     113                 3460.0   \n",
      "\n",
      "    crimes_committed_1996  \n",
      "0                   99107  \n",
      "1                    2674  \n",
      "2                    2813  \n",
      "3                    5892  \n",
      "4                    3040  \n",
      "..                    ...  \n",
      "72                   4433  \n",
      "73                  18347  \n",
      "74                   4505  \n",
      "75                   2807  \n",
      "76                   3590  \n",
      "\n",
      "[77 rows x 16 columns]\n"
     ]
    }
   ],
   "source": [
    "# Dictionnaire de mappage pour les nouveaux noms de colonnes\n",
    "column_mapping = {\n",
    "    'a1': 'district_id',\n",
    "    'a2': 'district_name',\n",
    "    'a3': 'region',\n",
    "    'a4': 'num_inhabitants',\n",
    "    'a5': 'num_municipalities_lt_499',\n",
    "    'a6': 'num_municipalities_500_1999',\n",
    "    'a7': 'num_municipalities_2000_9999',\n",
    "    'a8': 'num_municipalities_gt_10000',\n",
    "    'a9': 'num_cities',\n",
    "    'a10': 'urban_inhabitants_ratio',\n",
    "    'a11': 'average_salary',\n",
    "    'a12': 'unemployment_rate_1995',\n",
    "    'a13': 'unemployment_rate_1996',\n",
    "    'a14': 'entrepreneurs_per_1000',\n",
    "    'a15': 'crimes_committed_1995',\n",
    "    'a16': 'crimes_committed_1996'\n",
    "}\n",
    "\n",
    "# Renommer les colonnes\n",
    "district.rename(columns=column_mapping, inplace=True)\n",
    "\n",
    "# Afficher le dataset avec les nouvelles colonnes\n",
    "print(district)"
   ]
  },
  {
   "cell_type": "markdown",
   "id": "82e0f15e",
   "metadata": {},
   "source": [
    "## Data Understanding : Loan Dataset"
   ]
  },
  {
   "cell_type": "code",
   "execution_count": 29,
   "id": "366e2e60",
   "metadata": {},
   "outputs": [
    {
     "name": "stdout",
     "output_type": "stream",
     "text": [
      "Loan columns: Index(['loan_id', 'account_id', 'date', 'amount', 'duration', 'payments',\n",
      "       'status'],\n",
      "      dtype='object')\n"
     ]
    }
   ],
   "source": [
    "print(\"Loan columns:\", loan.columns)"
   ]
  },
  {
   "cell_type": "markdown",
   "id": "bd22ac52",
   "metadata": {},
   "source": [
    "loan_id : Loan Identification\n",
    "\n",
    "account_id : Account Identification \n",
    "\n",
    "date : Date in form YYMMDD\n",
    "\n",
    "amount : Amount of loan\n",
    "\n",
    "duration : Duration of loan\n",
    "\n",
    "payments : Monthly Payments on Loan\n",
    "\n",
    "status : Status in paying off the loan \n",
    "\n",
    "    'A' stands for contract finished, no problems\n",
    "    \n",
    "    'B' stands for contract finished, loan not payed\n",
    "\n",
    "    'C' stands for running contract, OK thus-far\n",
    "\n",
    "    'D' stands for running contract, client in debt"
   ]
  },
  {
   "cell_type": "code",
   "execution_count": 30,
   "id": "a04c0d7a",
   "metadata": {},
   "outputs": [
    {
     "data": {
      "text/plain": [
       "(682, 7)"
      ]
     },
     "execution_count": 30,
     "metadata": {},
     "output_type": "execute_result"
    }
   ],
   "source": [
    "loan.shape"
   ]
  },
  {
   "cell_type": "code",
   "execution_count": 41,
   "id": "deb1a89c",
   "metadata": {},
   "outputs": [
    {
     "data": {
      "text/plain": [
       "False"
      ]
     },
     "execution_count": 41,
     "metadata": {},
     "output_type": "execute_result"
    }
   ],
   "source": [
    "loan.isnull().values.any()"
   ]
  },
  {
   "cell_type": "code",
   "execution_count": 31,
   "id": "514d3663",
   "metadata": {},
   "outputs": [
    {
     "name": "stdout",
     "output_type": "stream",
     "text": [
      "Tous les loan_id sont uniques.\n"
     ]
    }
   ],
   "source": [
    "# Vérifier l'unicité des loan_id\n",
    "duplicate_loan_ids = loan[loan.duplicated(subset='loan_id', keep=False)]\n",
    "\n",
    "if duplicate_loan_ids.empty:\n",
    "    print(\"Tous les loan_id sont uniques.\")\n",
    "else:\n",
    "    print(\"Il y a des duplications de loan_id:\")\n",
    "    print(duplicate_loan_ids)"
   ]
  },
  {
   "cell_type": "code",
   "execution_count": 32,
   "id": "a38ea96c",
   "metadata": {},
   "outputs": [
    {
     "data": {
      "text/html": [
       "<div>\n",
       "<style scoped>\n",
       "    .dataframe tbody tr th:only-of-type {\n",
       "        vertical-align: middle;\n",
       "    }\n",
       "\n",
       "    .dataframe tbody tr th {\n",
       "        vertical-align: top;\n",
       "    }\n",
       "\n",
       "    .dataframe thead th {\n",
       "        text-align: right;\n",
       "    }\n",
       "</style>\n",
       "<table border=\"1\" class=\"dataframe\">\n",
       "  <thead>\n",
       "    <tr style=\"text-align: right;\">\n",
       "      <th></th>\n",
       "      <th>loan_id</th>\n",
       "      <th>account_id</th>\n",
       "      <th>date</th>\n",
       "      <th>amount</th>\n",
       "      <th>duration</th>\n",
       "      <th>payments</th>\n",
       "      <th>status</th>\n",
       "    </tr>\n",
       "  </thead>\n",
       "  <tbody>\n",
       "    <tr>\n",
       "      <th>0</th>\n",
       "      <td>5314</td>\n",
       "      <td>1787</td>\n",
       "      <td>930705</td>\n",
       "      <td>96396</td>\n",
       "      <td>12</td>\n",
       "      <td>8033.0</td>\n",
       "      <td>B</td>\n",
       "    </tr>\n",
       "    <tr>\n",
       "      <th>1</th>\n",
       "      <td>5316</td>\n",
       "      <td>1801</td>\n",
       "      <td>930711</td>\n",
       "      <td>165960</td>\n",
       "      <td>36</td>\n",
       "      <td>4610.0</td>\n",
       "      <td>A</td>\n",
       "    </tr>\n",
       "    <tr>\n",
       "      <th>2</th>\n",
       "      <td>6863</td>\n",
       "      <td>9188</td>\n",
       "      <td>930728</td>\n",
       "      <td>127080</td>\n",
       "      <td>60</td>\n",
       "      <td>2118.0</td>\n",
       "      <td>A</td>\n",
       "    </tr>\n",
       "    <tr>\n",
       "      <th>3</th>\n",
       "      <td>5325</td>\n",
       "      <td>1843</td>\n",
       "      <td>930803</td>\n",
       "      <td>105804</td>\n",
       "      <td>36</td>\n",
       "      <td>2939.0</td>\n",
       "      <td>A</td>\n",
       "    </tr>\n",
       "    <tr>\n",
       "      <th>4</th>\n",
       "      <td>7240</td>\n",
       "      <td>11013</td>\n",
       "      <td>930906</td>\n",
       "      <td>274740</td>\n",
       "      <td>60</td>\n",
       "      <td>4579.0</td>\n",
       "      <td>A</td>\n",
       "    </tr>\n",
       "  </tbody>\n",
       "</table>\n",
       "</div>"
      ],
      "text/plain": [
       "   loan_id  account_id    date  amount  duration  payments status\n",
       "0     5314        1787  930705   96396        12    8033.0      B\n",
       "1     5316        1801  930711  165960        36    4610.0      A\n",
       "2     6863        9188  930728  127080        60    2118.0      A\n",
       "3     5325        1843  930803  105804        36    2939.0      A\n",
       "4     7240       11013  930906  274740        60    4579.0      A"
      ]
     },
     "execution_count": 32,
     "metadata": {},
     "output_type": "execute_result"
    }
   ],
   "source": [
    "loan.head()"
   ]
  },
  {
   "cell_type": "markdown",
   "id": "dce19481",
   "metadata": {},
   "source": [
    "The column dare is written in the form YYMMDD, let's change it to datetime."
   ]
  },
  {
   "cell_type": "code",
   "execution_count": 33,
   "id": "cf1dbbdf",
   "metadata": {},
   "outputs": [
    {
     "name": "stdout",
     "output_type": "stream",
     "text": [
      "     loan_id  account_id       date  amount  duration  payments status\n",
      "0       5314        1787 1993-07-05   96396        12    8033.0      B\n",
      "1       5316        1801 1993-07-11  165960        36    4610.0      A\n",
      "2       6863        9188 1993-07-28  127080        60    2118.0      A\n",
      "3       5325        1843 1993-08-03  105804        36    2939.0      A\n",
      "4       7240       11013 1993-09-06  274740        60    4579.0      A\n",
      "..       ...         ...        ...     ...       ...       ...    ...\n",
      "677     4989         105 1998-12-05  352704        48    7348.0      C\n",
      "678     5221        1284 1998-12-05   52512        12    4376.0      C\n",
      "679     6402        6922 1998-12-06  139488        24    5812.0      C\n",
      "680     5346        1928 1998-12-06   55632        24    2318.0      C\n",
      "681     6748        8645 1998-12-08  240900        60    4015.0      C\n",
      "\n",
      "[682 rows x 7 columns]\n"
     ]
    }
   ],
   "source": [
    "def convert_date(date_str):\n",
    "    date_str = str(date_str).zfill(6)\n",
    "    year = int(date_str[:2])\n",
    "    month = int(date_str[2:4])\n",
    "    day = int(date_str[4:6])\n",
    "    \n",
    "    # Assume all years are in the 20th or 21st century\n",
    "    current_year = datetime.now().year\n",
    "    if year <= int(str(current_year)[-2:]):  # If year is less than or equal to current year's last two digits\n",
    "        year += 2000\n",
    "    else:\n",
    "        year += 1900\n",
    "    \n",
    "    return datetime(year, month, day)\n",
    "\n",
    "# Convertir la colonne date\n",
    "loan['date'] = loan['date'].apply(convert_date)\n",
    "\n",
    "# Afficher le dataset avec les dates converties\n",
    "print(loan)"
   ]
  },
  {
   "cell_type": "code",
   "execution_count": 34,
   "id": "dc74be2b",
   "metadata": {},
   "outputs": [
    {
     "name": "stdout",
     "output_type": "stream",
     "text": [
      "status\n",
      "C    403\n",
      "A    203\n",
      "D     45\n",
      "B     31\n",
      "Name: count, dtype: int64\n"
     ]
    }
   ],
   "source": [
    "# Compter le nombre d'occurrences de chaque status\n",
    "status_occ = loan['status'].value_counts()\n",
    "\n",
    "# Afficher les résultats\n",
    "print(status_occ)"
   ]
  },
  {
   "cell_type": "markdown",
   "id": "61fe4f85",
   "metadata": {},
   "source": [
    "## Data Understanding : Order Dataset"
   ]
  },
  {
   "cell_type": "code",
   "execution_count": 35,
   "id": "3b982f41",
   "metadata": {},
   "outputs": [
    {
     "name": "stdout",
     "output_type": "stream",
     "text": [
      "Order columns: Index(['order_id', 'account_id', 'bank_to', 'account_to', 'amount',\n",
      "       'k_symbol'],\n",
      "      dtype='object')\n"
     ]
    }
   ],
   "source": [
    "print(\"Order columns:\", order.columns)"
   ]
  },
  {
   "cell_type": "markdown",
   "id": "f0137182",
   "metadata": {},
   "source": [
    "order_id : Order Identifier\n",
    "\n",
    "account_id : Account Identifier\t \n",
    "\n",
    "bank_to : Bank of the recipient (each bank has a two letter code)\n",
    "\n",
    "account_to : Account of the recipient\n",
    "\n",
    "amount : Amount debited from order account\t\n",
    "\n",
    "k_symbol : Characterization of the payment"
   ]
  },
  {
   "cell_type": "code",
   "execution_count": 38,
   "id": "e4d105c4",
   "metadata": {},
   "outputs": [
    {
     "data": {
      "text/plain": [
       "(6471, 6)"
      ]
     },
     "execution_count": 38,
     "metadata": {},
     "output_type": "execute_result"
    }
   ],
   "source": [
    "order.shape"
   ]
  },
  {
   "cell_type": "code",
   "execution_count": 39,
   "id": "f840f386",
   "metadata": {},
   "outputs": [
    {
     "name": "stdout",
     "output_type": "stream",
     "text": [
      "Tous les order_id sont uniques.\n"
     ]
    }
   ],
   "source": [
    "# Vérifier l'unicité des order_id\n",
    "duplicate_order_ids = order[order.duplicated(subset='order_id', keep=False)]\n",
    "\n",
    "if duplicate_order_ids.empty:\n",
    "    print(\"Tous les order_id sont uniques.\")\n",
    "else:\n",
    "    print(\"Il y a des duplications de order_id:\")\n",
    "    print(duplicate_order_ids)"
   ]
  },
  {
   "cell_type": "code",
   "execution_count": 40,
   "id": "02fc9fa5",
   "metadata": {},
   "outputs": [
    {
     "data": {
      "text/plain": [
       "False"
      ]
     },
     "execution_count": 40,
     "metadata": {},
     "output_type": "execute_result"
    }
   ],
   "source": [
    "order.isnull().values.any()"
   ]
  },
  {
   "cell_type": "code",
   "execution_count": 37,
   "id": "99d0c92d",
   "metadata": {},
   "outputs": [
    {
     "data": {
      "text/html": [
       "<div>\n",
       "<style scoped>\n",
       "    .dataframe tbody tr th:only-of-type {\n",
       "        vertical-align: middle;\n",
       "    }\n",
       "\n",
       "    .dataframe tbody tr th {\n",
       "        vertical-align: top;\n",
       "    }\n",
       "\n",
       "    .dataframe thead th {\n",
       "        text-align: right;\n",
       "    }\n",
       "</style>\n",
       "<table border=\"1\" class=\"dataframe\">\n",
       "  <thead>\n",
       "    <tr style=\"text-align: right;\">\n",
       "      <th></th>\n",
       "      <th>order_id</th>\n",
       "      <th>account_id</th>\n",
       "      <th>bank_to</th>\n",
       "      <th>account_to</th>\n",
       "      <th>amount</th>\n",
       "      <th>k_symbol</th>\n",
       "    </tr>\n",
       "  </thead>\n",
       "  <tbody>\n",
       "    <tr>\n",
       "      <th>0</th>\n",
       "      <td>29401</td>\n",
       "      <td>1</td>\n",
       "      <td>YZ</td>\n",
       "      <td>87144583</td>\n",
       "      <td>2452.0</td>\n",
       "      <td>SIPO</td>\n",
       "    </tr>\n",
       "    <tr>\n",
       "      <th>1</th>\n",
       "      <td>29402</td>\n",
       "      <td>2</td>\n",
       "      <td>ST</td>\n",
       "      <td>89597016</td>\n",
       "      <td>3372.7</td>\n",
       "      <td>UVER</td>\n",
       "    </tr>\n",
       "    <tr>\n",
       "      <th>2</th>\n",
       "      <td>29403</td>\n",
       "      <td>2</td>\n",
       "      <td>QR</td>\n",
       "      <td>13943797</td>\n",
       "      <td>7266.0</td>\n",
       "      <td>SIPO</td>\n",
       "    </tr>\n",
       "    <tr>\n",
       "      <th>3</th>\n",
       "      <td>29404</td>\n",
       "      <td>3</td>\n",
       "      <td>WX</td>\n",
       "      <td>83084338</td>\n",
       "      <td>1135.0</td>\n",
       "      <td>SIPO</td>\n",
       "    </tr>\n",
       "    <tr>\n",
       "      <th>4</th>\n",
       "      <td>29405</td>\n",
       "      <td>3</td>\n",
       "      <td>CD</td>\n",
       "      <td>24485939</td>\n",
       "      <td>327.0</td>\n",
       "      <td></td>\n",
       "    </tr>\n",
       "  </tbody>\n",
       "</table>\n",
       "</div>"
      ],
      "text/plain": [
       "   order_id  account_id bank_to  account_to  amount k_symbol\n",
       "0     29401           1      YZ    87144583  2452.0     SIPO\n",
       "1     29402           2      ST    89597016  3372.7     UVER\n",
       "2     29403           2      QR    13943797  7266.0     SIPO\n",
       "3     29404           3      WX    83084338  1135.0     SIPO\n",
       "4     29405           3      CD    24485939   327.0         "
      ]
     },
     "execution_count": 37,
     "metadata": {},
     "output_type": "execute_result"
    }
   ],
   "source": [
    "order.head()"
   ]
  },
  {
   "cell_type": "markdown",
   "id": "23d7f773",
   "metadata": {},
   "source": [
    "The column k_symbol is written in Czech, let's translate it : \n",
    "\n",
    "'POJISTNE' stands for Insurance Payment\n",
    "\n",
    "'SIPO' stands for Household Payment\n",
    "\n",
    "'LEASING' stands for Leasing Payment\n",
    "\n",
    "'UVER' stands for Loan Payment"
   ]
  },
  {
   "cell_type": "code",
   "execution_count": 42,
   "id": "7b5280ae",
   "metadata": {},
   "outputs": [
    {
     "name": "stdout",
     "output_type": "stream",
     "text": [
      "      order_id  account_id bank_to  account_to  amount   k_symbol\n",
      "0        29401           1      YZ    87144583  2452.0  Household\n",
      "1        29402           2      ST    89597016  3372.7       Loan\n",
      "2        29403           2      QR    13943797  7266.0  Household\n",
      "3        29404           3      WX    83084338  1135.0  Household\n",
      "4        29405           3      CD    24485939   327.0        NaN\n",
      "...        ...         ...     ...         ...     ...        ...\n",
      "6466     46334       11362      YZ    70641225  4780.0  Household\n",
      "6467     46335       11362      MN    78507822    56.0        NaN\n",
      "6468     46336       11362      ST    40799850   330.0  Insurance\n",
      "6469     46337       11362      KL    20009470   129.0        NaN\n",
      "6470     46338       11362      MN    61540514  5392.0       Loan\n",
      "\n",
      "[6471 rows x 6 columns]\n"
     ]
    }
   ],
   "source": [
    "# Traduction pour la colonne k_symbol\n",
    "translation_dict = {\n",
    "    \"POJISTNE\": \"Insurance\",\n",
    "    \"SIPO\": \"Household\",\n",
    "    \"LEASING\": \"Leasing\", \n",
    "    \"UVER\": \"Loan\"\n",
    "}\n",
    "\n",
    "# Traduire la colonne k_symbol\n",
    "order['k_symbol'] = order['k_symbol'].map(translation_dict)\n",
    "\n",
    "# Afficher le dataset avec la colonne k_symbol traduite\n",
    "print(order)"
   ]
  },
  {
   "cell_type": "code",
   "execution_count": 43,
   "id": "603e12e8",
   "metadata": {},
   "outputs": [
    {
     "data": {
      "text/plain": [
       "True"
      ]
     },
     "execution_count": 43,
     "metadata": {},
     "output_type": "execute_result"
    }
   ],
   "source": [
    "order.isnull().values.any()"
   ]
  },
  {
   "cell_type": "code",
   "execution_count": 45,
   "id": "91c9ae92",
   "metadata": {},
   "outputs": [
    {
     "name": "stdout",
     "output_type": "stream",
     "text": [
      "k_symbol\n",
      "Household    3502\n",
      "NaN          1379\n",
      "Loan          717\n",
      "Insurance     532\n",
      "Leasing       341\n",
      "Name: count, dtype: int64\n"
     ]
    }
   ],
   "source": [
    "# Compter le nombre d'occurrences de chaque k_symbol\n",
    "k_symbol_occ = order['k_symbol'].value_counts(dropna=False)\n",
    "\n",
    "# Afficher les résultats\n",
    "print(k_symbol_occ)"
   ]
  },
  {
   "cell_type": "code",
   "execution_count": 46,
   "id": "689d1c14",
   "metadata": {},
   "outputs": [
    {
     "name": "stderr",
     "output_type": "stream",
     "text": [
      "C:\\Users\\HD\\AppData\\Local\\Temp\\ipykernel_3616\\652929224.py:2: FutureWarning: A value is trying to be set on a copy of a DataFrame or Series through chained assignment using an inplace method.\n",
      "The behavior will change in pandas 3.0. This inplace method will never work because the intermediate object on which we are setting values always behaves as a copy.\n",
      "\n",
      "For example, when doing 'df[col].method(value, inplace=True)', try using 'df.method({col: value}, inplace=True)' or df[col] = df[col].method(value) instead, to perform the operation inplace on the original object.\n",
      "\n",
      "\n",
      "  order['k_symbol'].fillna('Other', inplace=True)\n"
     ]
    }
   ],
   "source": [
    "# Remplacer les valeurs NaN par \"Other\"\n",
    "order['k_symbol'].fillna('Other', inplace=True)"
   ]
  },
  {
   "cell_type": "code",
   "execution_count": 47,
   "id": "0872bc59",
   "metadata": {},
   "outputs": [
    {
     "name": "stdout",
     "output_type": "stream",
     "text": [
      "k_symbol\n",
      "Household    3502\n",
      "Other        1379\n",
      "Loan          717\n",
      "Insurance     532\n",
      "Leasing       341\n",
      "Name: count, dtype: int64\n"
     ]
    }
   ],
   "source": [
    "# Compter le nombre d'occurrences de chaque k_symbol\n",
    "k_symbol_occ = order['k_symbol'].value_counts(dropna=False)\n",
    "\n",
    "# Afficher les résultats\n",
    "print(k_symbol_occ)"
   ]
  },
  {
   "cell_type": "markdown",
   "id": "d1a35108",
   "metadata": {},
   "source": [
    "## Data Understanding : Transactions Dataset"
   ]
  },
  {
   "cell_type": "code",
   "execution_count": null,
   "id": "e2b2bbf5",
   "metadata": {},
   "outputs": [],
   "source": []
  }
 ],
 "metadata": {
  "kernelspec": {
   "display_name": "Python 3 (ipykernel)",
   "language": "python",
   "name": "python3"
  },
  "language_info": {
   "codemirror_mode": {
    "name": "ipython",
    "version": 3
   },
   "file_extension": ".py",
   "mimetype": "text/x-python",
   "name": "python",
   "nbconvert_exporter": "python",
   "pygments_lexer": "ipython3",
   "version": "3.12.2"
  }
 },
 "nbformat": 4,
 "nbformat_minor": 5
}
